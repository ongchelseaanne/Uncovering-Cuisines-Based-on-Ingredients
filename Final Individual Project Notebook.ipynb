{
 "cells": [
  {
   "cell_type": "markdown",
   "metadata": {},
   "source": [
    "# Uncovering Cuisines Based on Ingredients\n",
    "by Chelsea Anne S. Ong"
   ]
  },
  {
   "cell_type": "markdown",
   "metadata": {},
   "source": [
    "## Loading of the Libraries"
   ]
  },
  {
   "cell_type": "code",
   "execution_count": 1,
   "metadata": {
    "ExecuteTime": {
     "end_time": "2019-08-20T08:41:55.627959Z",
     "start_time": "2019-08-20T08:41:41.579050Z"
    }
   },
   "outputs": [],
   "source": [
    "import pandas as pd\n",
    "pd.options.display.float_format = '{:,.4g}'.format\n",
    "# import warnings filter\n",
    "from warnings import simplefilter\n",
    "# ignore all future warnings\n",
    "simplefilter(action='ignore', category=FutureWarning)\n",
    "\n",
    "## classifier ML models\n",
    "from sklearn.neighbors import KNeighborsClassifier\n",
    "from sklearn.linear_model import LogisticRegression\n",
    "from sklearn.svm import LinearSVC\n",
    "from sklearn.model_selection import train_test_split\n",
    "from sklearn.preprocessing import StandardScaler\n",
    "from sklearn.ensemble import RandomForestClassifier\n",
    "from sklearn.tree import DecisionTreeClassifier\n",
    "\n",
    "from sklearn import model_selection, preprocessing\n",
    "from sklearn.svm import SVC\n",
    "from sklearn.preprocessing import LabelEncoder\n",
    "\n",
    "import pandas as pd\n",
    "import numpy as np\n",
    "import matplotlib.pyplot as plt\n",
    "import importlib\n",
    "import seaborn as sns\n",
    "import pickle\n",
    "import re\n",
    "import json\n",
    "%matplotlib inline\n"
   ]
  },
  {
   "cell_type": "markdown",
   "metadata": {},
   "source": [
    "## Loading the DataSet"
   ]
  },
  {
   "cell_type": "code",
   "execution_count": 2,
   "metadata": {
    "ExecuteTime": {
     "end_time": "2019-08-20T08:42:06.313274Z",
     "start_time": "2019-08-20T08:42:06.067535Z"
    }
   },
   "outputs": [],
   "source": [
    "with open('train.json') as train:\n",
    "    training=json.load(train)"
   ]
  },
  {
   "cell_type": "markdown",
   "metadata": {},
   "source": [
    "## Data Pre-Processing\n",
    "\n",
    "The Data pre-processing involves: \n",
    "1. Turning the json file into a Pandas DataFrame. This step matches each recipe into its set of ingredients and put it into dataframe named `dirty_df`.\n",
    "2. Creating a function for the modified one-hot encoding and implement it. The end result is a one-hot encoded dataframe with recipe as entries and ingredients as features.\n",
    "3. Note that the data is highly dimensional and sparse, it will take time to run the program. Undersampling is done to shorten run time."
   ]
  },
  {
   "cell_type": "markdown",
   "metadata": {},
   "source": [
    "#### Turn JSON file into a Pandas DataFrame"
   ]
  },
  {
   "cell_type": "code",
   "execution_count": 3,
   "metadata": {
    "ExecuteTime": {
     "end_time": "2019-08-20T08:42:09.179664Z",
     "start_time": "2019-08-20T08:42:08.577643Z"
    }
   },
   "outputs": [],
   "source": [
    "count_ings={} ## dictionary connecting id with ingredients\n",
    "a_cuisine={} ## dictionary connecting id with cuisine\n",
    "series=pd.Series()\n",
    "for dish in training:  \n",
    "    count_ings[dish['id']] = dish['ingredients']\n",
    "    a_cuisine[dish['id']] = dish['cuisine']\n",
    "    \n",
    "dirty_df = pd.DataFrame.from_dict(count_ings,orient = 'index')\n",
    "dirty_df['cuisine']=pd.Series(a_cuisine)"
   ]
  },
  {
   "cell_type": "markdown",
   "metadata": {},
   "source": [
    "`dirty_df` displays the id as entries and ingredients as columns. The last column contains the cuisine the id belongs to."
   ]
  },
  {
   "cell_type": "code",
   "execution_count": 4,
   "metadata": {
    "ExecuteTime": {
     "end_time": "2019-08-20T08:42:12.137721Z",
     "start_time": "2019-08-20T08:42:12.107989Z"
    }
   },
   "outputs": [
    {
     "data": {
      "text/html": [
       "<div>\n",
       "<style scoped>\n",
       "    .dataframe tbody tr th:only-of-type {\n",
       "        vertical-align: middle;\n",
       "    }\n",
       "\n",
       "    .dataframe tbody tr th {\n",
       "        vertical-align: top;\n",
       "    }\n",
       "\n",
       "    .dataframe thead th {\n",
       "        text-align: right;\n",
       "    }\n",
       "</style>\n",
       "<table border=\"1\" class=\"dataframe\">\n",
       "  <thead>\n",
       "    <tr style=\"text-align: right;\">\n",
       "      <th></th>\n",
       "      <th>0</th>\n",
       "      <th>1</th>\n",
       "      <th>2</th>\n",
       "      <th>3</th>\n",
       "      <th>4</th>\n",
       "      <th>5</th>\n",
       "      <th>6</th>\n",
       "      <th>7</th>\n",
       "      <th>8</th>\n",
       "      <th>9</th>\n",
       "      <th>...</th>\n",
       "      <th>56</th>\n",
       "      <th>57</th>\n",
       "      <th>58</th>\n",
       "      <th>59</th>\n",
       "      <th>60</th>\n",
       "      <th>61</th>\n",
       "      <th>62</th>\n",
       "      <th>63</th>\n",
       "      <th>64</th>\n",
       "      <th>cuisine</th>\n",
       "    </tr>\n",
       "  </thead>\n",
       "  <tbody>\n",
       "    <tr>\n",
       "      <th>10259</th>\n",
       "      <td>romaine lettuce</td>\n",
       "      <td>black olives</td>\n",
       "      <td>grape tomatoes</td>\n",
       "      <td>garlic</td>\n",
       "      <td>pepper</td>\n",
       "      <td>purple onion</td>\n",
       "      <td>seasoning</td>\n",
       "      <td>garbanzo beans</td>\n",
       "      <td>feta cheese crumbles</td>\n",
       "      <td>None</td>\n",
       "      <td>...</td>\n",
       "      <td>None</td>\n",
       "      <td>None</td>\n",
       "      <td>None</td>\n",
       "      <td>None</td>\n",
       "      <td>None</td>\n",
       "      <td>None</td>\n",
       "      <td>None</td>\n",
       "      <td>None</td>\n",
       "      <td>None</td>\n",
       "      <td>greek</td>\n",
       "    </tr>\n",
       "    <tr>\n",
       "      <th>25693</th>\n",
       "      <td>plain flour</td>\n",
       "      <td>ground pepper</td>\n",
       "      <td>salt</td>\n",
       "      <td>tomatoes</td>\n",
       "      <td>ground black pepper</td>\n",
       "      <td>thyme</td>\n",
       "      <td>eggs</td>\n",
       "      <td>green tomatoes</td>\n",
       "      <td>yellow corn meal</td>\n",
       "      <td>milk</td>\n",
       "      <td>...</td>\n",
       "      <td>None</td>\n",
       "      <td>None</td>\n",
       "      <td>None</td>\n",
       "      <td>None</td>\n",
       "      <td>None</td>\n",
       "      <td>None</td>\n",
       "      <td>None</td>\n",
       "      <td>None</td>\n",
       "      <td>None</td>\n",
       "      <td>southern_us</td>\n",
       "    </tr>\n",
       "    <tr>\n",
       "      <th>20130</th>\n",
       "      <td>eggs</td>\n",
       "      <td>pepper</td>\n",
       "      <td>salt</td>\n",
       "      <td>mayonaise</td>\n",
       "      <td>cooking oil</td>\n",
       "      <td>green chilies</td>\n",
       "      <td>grilled chicken breasts</td>\n",
       "      <td>garlic powder</td>\n",
       "      <td>yellow onion</td>\n",
       "      <td>soy sauce</td>\n",
       "      <td>...</td>\n",
       "      <td>None</td>\n",
       "      <td>None</td>\n",
       "      <td>None</td>\n",
       "      <td>None</td>\n",
       "      <td>None</td>\n",
       "      <td>None</td>\n",
       "      <td>None</td>\n",
       "      <td>None</td>\n",
       "      <td>None</td>\n",
       "      <td>filipino</td>\n",
       "    </tr>\n",
       "    <tr>\n",
       "      <th>22213</th>\n",
       "      <td>water</td>\n",
       "      <td>vegetable oil</td>\n",
       "      <td>wheat</td>\n",
       "      <td>salt</td>\n",
       "      <td>None</td>\n",
       "      <td>None</td>\n",
       "      <td>None</td>\n",
       "      <td>None</td>\n",
       "      <td>None</td>\n",
       "      <td>None</td>\n",
       "      <td>...</td>\n",
       "      <td>None</td>\n",
       "      <td>None</td>\n",
       "      <td>None</td>\n",
       "      <td>None</td>\n",
       "      <td>None</td>\n",
       "      <td>None</td>\n",
       "      <td>None</td>\n",
       "      <td>None</td>\n",
       "      <td>None</td>\n",
       "      <td>indian</td>\n",
       "    </tr>\n",
       "    <tr>\n",
       "      <th>13162</th>\n",
       "      <td>black pepper</td>\n",
       "      <td>shallots</td>\n",
       "      <td>cornflour</td>\n",
       "      <td>cayenne pepper</td>\n",
       "      <td>onions</td>\n",
       "      <td>garlic paste</td>\n",
       "      <td>milk</td>\n",
       "      <td>butter</td>\n",
       "      <td>salt</td>\n",
       "      <td>lemon juice</td>\n",
       "      <td>...</td>\n",
       "      <td>None</td>\n",
       "      <td>None</td>\n",
       "      <td>None</td>\n",
       "      <td>None</td>\n",
       "      <td>None</td>\n",
       "      <td>None</td>\n",
       "      <td>None</td>\n",
       "      <td>None</td>\n",
       "      <td>None</td>\n",
       "      <td>indian</td>\n",
       "    </tr>\n",
       "  </tbody>\n",
       "</table>\n",
       "<p>5 rows × 66 columns</p>\n",
       "</div>"
      ],
      "text/plain": [
       "                     0              1               2               3  \\\n",
       "10259  romaine lettuce   black olives  grape tomatoes          garlic   \n",
       "25693      plain flour  ground pepper            salt        tomatoes   \n",
       "20130             eggs         pepper            salt       mayonaise   \n",
       "22213            water  vegetable oil           wheat            salt   \n",
       "13162     black pepper       shallots       cornflour  cayenne pepper   \n",
       "\n",
       "                         4              5                        6  \\\n",
       "10259               pepper   purple onion                seasoning   \n",
       "25693  ground black pepper          thyme                     eggs   \n",
       "20130          cooking oil  green chilies  grilled chicken breasts   \n",
       "22213                 None           None                     None   \n",
       "13162               onions   garlic paste                     milk   \n",
       "\n",
       "                    7                     8            9  ...    56    57  \\\n",
       "10259  garbanzo beans  feta cheese crumbles         None  ...  None  None   \n",
       "25693  green tomatoes      yellow corn meal         milk  ...  None  None   \n",
       "20130   garlic powder          yellow onion    soy sauce  ...  None  None   \n",
       "22213            None                  None         None  ...  None  None   \n",
       "13162          butter                  salt  lemon juice  ...  None  None   \n",
       "\n",
       "         58    59    60    61    62    63    64      cuisine  \n",
       "10259  None  None  None  None  None  None  None        greek  \n",
       "25693  None  None  None  None  None  None  None  southern_us  \n",
       "20130  None  None  None  None  None  None  None     filipino  \n",
       "22213  None  None  None  None  None  None  None       indian  \n",
       "13162  None  None  None  None  None  None  None       indian  \n",
       "\n",
       "[5 rows x 66 columns]"
      ]
     },
     "execution_count": 4,
     "metadata": {},
     "output_type": "execute_result"
    }
   ],
   "source": [
    "dirty_df.head()"
   ]
  },
  {
   "cell_type": "markdown",
   "metadata": {},
   "source": [
    "Past studies suggests the use of the TF-IDF Vectorizer due to the nature of the data which is text data. There have been no studies doing one-hot encoding where each ingredient will be treated as features. I wanted to do a different approach this time and the function is shown below.\n",
    "#### The one-hot encode function\n",
    "\n",
    "This modified one-hot encode function prevents ingredients from repeating. In the `pd.get_dummies` function, it takes the order of the ingredients into account and repeating ingredients can possibly happen."
   ]
  },
  {
   "cell_type": "code",
   "execution_count": 5,
   "metadata": {
    "ExecuteTime": {
     "end_time": "2019-08-20T08:42:19.068279Z",
     "start_time": "2019-08-20T08:42:19.063809Z"
    }
   },
   "outputs": [],
   "source": [
    "def onehot_encode(x):\n",
    "    features = set(x)\n",
    "    if 'temp' in features:\n",
    "        features.remove('temp')\n",
    "#     print(features)\n",
    "    food = pd.Series(index=ingredients)\n",
    "    food[features] = 1\n",
    "    return food"
   ]
  },
  {
   "cell_type": "markdown",
   "metadata": {},
   "source": [
    "#### List of cuisines and list of ingredients"
   ]
  },
  {
   "cell_type": "code",
   "execution_count": 6,
   "metadata": {
    "ExecuteTime": {
     "end_time": "2019-08-20T08:42:21.057978Z",
     "start_time": "2019-08-20T08:42:20.695987Z"
    }
   },
   "outputs": [],
   "source": [
    "ingredients = set(dirty_df.values.reshape(1,-1).tolist()[0]) \n",
    "## list of unique ingredients\n",
    "cuisines=list(dirty_df['cuisine'].unique()) ## list of cuisines"
   ]
  },
  {
   "cell_type": "code",
   "execution_count": 7,
   "metadata": {
    "ExecuteTime": {
     "end_time": "2019-08-20T08:42:23.951052Z",
     "start_time": "2019-08-20T08:42:23.542859Z"
    }
   },
   "outputs": [],
   "source": [
    "dirty_df1=dirty_df.drop(columns='cuisine')\n",
    "dirty_df1.fillna(value='temp',inplace=True)"
   ]
  },
  {
   "cell_type": "markdown",
   "metadata": {},
   "source": [
    "This step involves turning the whole dataframe into one-hot encode format."
   ]
  },
  {
   "cell_type": "code",
   "execution_count": 8,
   "metadata": {
    "ExecuteTime": {
     "end_time": "2019-08-20T08:46:59.824838Z",
     "start_time": "2019-08-20T08:42:26.733055Z"
    }
   },
   "outputs": [],
   "source": [
    "df_onehot=dirty_df1.apply(onehot_encode,axis=1).fillna(0)"
   ]
  },
  {
   "cell_type": "code",
   "execution_count": 9,
   "metadata": {
    "ExecuteTime": {
     "end_time": "2019-08-20T08:46:59.947126Z",
     "start_time": "2019-08-20T08:46:59.853274Z"
    }
   },
   "outputs": [
    {
     "data": {
      "text/html": [
       "<div>\n",
       "<style scoped>\n",
       "    .dataframe tbody tr th:only-of-type {\n",
       "        vertical-align: middle;\n",
       "    }\n",
       "\n",
       "    .dataframe tbody tr th {\n",
       "        vertical-align: top;\n",
       "    }\n",
       "\n",
       "    .dataframe thead th {\n",
       "        text-align: right;\n",
       "    }\n",
       "</style>\n",
       "<table border=\"1\" class=\"dataframe\">\n",
       "  <thead>\n",
       "    <tr style=\"text-align: right;\">\n",
       "      <th></th>\n",
       "      <th>back bacon rashers</th>\n",
       "      <th>asti spumante</th>\n",
       "      <th>whole wheat pita pockets</th>\n",
       "      <th>diced lamb</th>\n",
       "      <th>green tea</th>\n",
       "      <th>cones</th>\n",
       "      <th>fenugreek</th>\n",
       "      <th>riblets</th>\n",
       "      <th>swiss</th>\n",
       "      <th>tuna fillets</th>\n",
       "      <th>...</th>\n",
       "      <th>snappers</th>\n",
       "      <th>cubed pancetta</th>\n",
       "      <th>brats</th>\n",
       "      <th>snip fresh dill</th>\n",
       "      <th>puff pastry cups</th>\n",
       "      <th>frozen basil</th>\n",
       "      <th>Cox's Orange Pippin</th>\n",
       "      <th>sunflower kernels</th>\n",
       "      <th>garbanzo bean flour</th>\n",
       "      <th>chinese duck sauce</th>\n",
       "    </tr>\n",
       "  </thead>\n",
       "  <tbody>\n",
       "    <tr>\n",
       "      <th>10259</th>\n",
       "      <td>0</td>\n",
       "      <td>0</td>\n",
       "      <td>0</td>\n",
       "      <td>0</td>\n",
       "      <td>0</td>\n",
       "      <td>0</td>\n",
       "      <td>0</td>\n",
       "      <td>0</td>\n",
       "      <td>0</td>\n",
       "      <td>0</td>\n",
       "      <td>...</td>\n",
       "      <td>0</td>\n",
       "      <td>0</td>\n",
       "      <td>0</td>\n",
       "      <td>0</td>\n",
       "      <td>0</td>\n",
       "      <td>0</td>\n",
       "      <td>0</td>\n",
       "      <td>0</td>\n",
       "      <td>0</td>\n",
       "      <td>0</td>\n",
       "    </tr>\n",
       "    <tr>\n",
       "      <th>25693</th>\n",
       "      <td>0</td>\n",
       "      <td>0</td>\n",
       "      <td>0</td>\n",
       "      <td>0</td>\n",
       "      <td>0</td>\n",
       "      <td>0</td>\n",
       "      <td>0</td>\n",
       "      <td>0</td>\n",
       "      <td>0</td>\n",
       "      <td>0</td>\n",
       "      <td>...</td>\n",
       "      <td>0</td>\n",
       "      <td>0</td>\n",
       "      <td>0</td>\n",
       "      <td>0</td>\n",
       "      <td>0</td>\n",
       "      <td>0</td>\n",
       "      <td>0</td>\n",
       "      <td>0</td>\n",
       "      <td>0</td>\n",
       "      <td>0</td>\n",
       "    </tr>\n",
       "    <tr>\n",
       "      <th>20130</th>\n",
       "      <td>0</td>\n",
       "      <td>0</td>\n",
       "      <td>0</td>\n",
       "      <td>0</td>\n",
       "      <td>0</td>\n",
       "      <td>0</td>\n",
       "      <td>0</td>\n",
       "      <td>0</td>\n",
       "      <td>0</td>\n",
       "      <td>0</td>\n",
       "      <td>...</td>\n",
       "      <td>0</td>\n",
       "      <td>0</td>\n",
       "      <td>0</td>\n",
       "      <td>0</td>\n",
       "      <td>0</td>\n",
       "      <td>0</td>\n",
       "      <td>0</td>\n",
       "      <td>0</td>\n",
       "      <td>0</td>\n",
       "      <td>0</td>\n",
       "    </tr>\n",
       "    <tr>\n",
       "      <th>22213</th>\n",
       "      <td>0</td>\n",
       "      <td>0</td>\n",
       "      <td>0</td>\n",
       "      <td>0</td>\n",
       "      <td>0</td>\n",
       "      <td>0</td>\n",
       "      <td>0</td>\n",
       "      <td>0</td>\n",
       "      <td>0</td>\n",
       "      <td>0</td>\n",
       "      <td>...</td>\n",
       "      <td>0</td>\n",
       "      <td>0</td>\n",
       "      <td>0</td>\n",
       "      <td>0</td>\n",
       "      <td>0</td>\n",
       "      <td>0</td>\n",
       "      <td>0</td>\n",
       "      <td>0</td>\n",
       "      <td>0</td>\n",
       "      <td>0</td>\n",
       "    </tr>\n",
       "    <tr>\n",
       "      <th>13162</th>\n",
       "      <td>0</td>\n",
       "      <td>0</td>\n",
       "      <td>0</td>\n",
       "      <td>0</td>\n",
       "      <td>0</td>\n",
       "      <td>0</td>\n",
       "      <td>0</td>\n",
       "      <td>0</td>\n",
       "      <td>0</td>\n",
       "      <td>0</td>\n",
       "      <td>...</td>\n",
       "      <td>0</td>\n",
       "      <td>0</td>\n",
       "      <td>0</td>\n",
       "      <td>0</td>\n",
       "      <td>0</td>\n",
       "      <td>0</td>\n",
       "      <td>0</td>\n",
       "      <td>0</td>\n",
       "      <td>0</td>\n",
       "      <td>0</td>\n",
       "    </tr>\n",
       "  </tbody>\n",
       "</table>\n",
       "<p>5 rows × 6735 columns</p>\n",
       "</div>"
      ],
      "text/plain": [
       "       back bacon rashers  asti spumante  whole wheat pita pockets  \\\n",
       "10259                   0              0                         0   \n",
       "25693                   0              0                         0   \n",
       "20130                   0              0                         0   \n",
       "22213                   0              0                         0   \n",
       "13162                   0              0                         0   \n",
       "\n",
       "       diced lamb  green tea  cones  fenugreek  riblets  swiss  tuna fillets  \\\n",
       "10259           0          0      0          0        0      0             0   \n",
       "25693           0          0      0          0        0      0             0   \n",
       "20130           0          0      0          0        0      0             0   \n",
       "22213           0          0      0          0        0      0             0   \n",
       "13162           0          0      0          0        0      0             0   \n",
       "\n",
       "       ...  snappers  cubed pancetta  brats  snip fresh dill  \\\n",
       "10259  ...         0               0      0                0   \n",
       "25693  ...         0               0      0                0   \n",
       "20130  ...         0               0      0                0   \n",
       "22213  ...         0               0      0                0   \n",
       "13162  ...         0               0      0                0   \n",
       "\n",
       "       puff pastry cups  frozen basil  Cox's Orange Pippin  sunflower kernels  \\\n",
       "10259                 0             0                    0                  0   \n",
       "25693                 0             0                    0                  0   \n",
       "20130                 0             0                    0                  0   \n",
       "22213                 0             0                    0                  0   \n",
       "13162                 0             0                    0                  0   \n",
       "\n",
       "       garbanzo bean flour  chinese duck sauce  \n",
       "10259                    0                   0  \n",
       "25693                    0                   0  \n",
       "20130                    0                   0  \n",
       "22213                    0                   0  \n",
       "13162                    0                   0  \n",
       "\n",
       "[5 rows x 6735 columns]"
      ]
     },
     "execution_count": 9,
     "metadata": {},
     "output_type": "execute_result"
    }
   ],
   "source": [
    "df_onehot.head()"
   ]
  },
  {
   "cell_type": "code",
   "execution_count": 10,
   "metadata": {
    "ExecuteTime": {
     "end_time": "2019-08-20T01:32:10.831620Z",
     "start_time": "2019-08-20T01:31:43.802939Z"
    }
   },
   "outputs": [],
   "source": [
    "# df_onehot.to_pickle('onehot.pkl')"
   ]
  },
  {
   "cell_type": "markdown",
   "metadata": {},
   "source": [
    "#### Assign `df_onehot` to `onehot` to preserve the original dataframe."
   ]
  },
  {
   "cell_type": "code",
   "execution_count": 10,
   "metadata": {
    "ExecuteTime": {
     "end_time": "2019-08-20T08:46:59.957015Z",
     "start_time": "2019-08-20T08:46:59.950569Z"
    }
   },
   "outputs": [],
   "source": [
    "onehot=df_onehot"
   ]
  },
  {
   "cell_type": "markdown",
   "metadata": {},
   "source": [
    "Drop ingredients that appeared less than 25 times to reduce complexity of data and assign in to `bal_25` dataframe."
   ]
  },
  {
   "cell_type": "code",
   "execution_count": 11,
   "metadata": {
    "ExecuteTime": {
     "end_time": "2019-08-20T08:47:18.586766Z",
     "start_time": "2019-08-20T08:46:59.967062Z"
    }
   },
   "outputs": [],
   "source": [
    "bal_25=onehot.drop(onehot.loc[:,onehot.sum()<25],axis=1)"
   ]
  },
  {
   "cell_type": "code",
   "execution_count": 12,
   "metadata": {
    "ExecuteTime": {
     "end_time": "2019-08-20T08:47:18.650393Z",
     "start_time": "2019-08-20T08:47:18.609296Z"
    }
   },
   "outputs": [
    {
     "data": {
      "text/html": [
       "<div>\n",
       "<style scoped>\n",
       "    .dataframe tbody tr th:only-of-type {\n",
       "        vertical-align: middle;\n",
       "    }\n",
       "\n",
       "    .dataframe tbody tr th {\n",
       "        vertical-align: top;\n",
       "    }\n",
       "\n",
       "    .dataframe thead th {\n",
       "        text-align: right;\n",
       "    }\n",
       "</style>\n",
       "<table border=\"1\" class=\"dataframe\">\n",
       "  <thead>\n",
       "    <tr style=\"text-align: right;\">\n",
       "      <th></th>\n",
       "      <th>fenugreek</th>\n",
       "      <th>corn kernels</th>\n",
       "      <th>smoked gouda</th>\n",
       "      <th>unsalted cashews</th>\n",
       "      <th>hellmann' or best food real mayonnais</th>\n",
       "      <th>pepper flakes</th>\n",
       "      <th>red kidney beans</th>\n",
       "      <th>gram flour</th>\n",
       "      <th>olives</th>\n",
       "      <th>ground turkey breast</th>\n",
       "      <th>...</th>\n",
       "      <th>whipped cream</th>\n",
       "      <th>chicken livers</th>\n",
       "      <th>Chinese egg noodles</th>\n",
       "      <th>old bay seasoning</th>\n",
       "      <th>lime wedges</th>\n",
       "      <th>ground chicken</th>\n",
       "      <th>thyme leaves</th>\n",
       "      <th>tumeric</th>\n",
       "      <th>black peppercorns</th>\n",
       "      <th>chipotle</th>\n",
       "    </tr>\n",
       "  </thead>\n",
       "  <tbody>\n",
       "    <tr>\n",
       "      <th>10259</th>\n",
       "      <td>0</td>\n",
       "      <td>0</td>\n",
       "      <td>0</td>\n",
       "      <td>0</td>\n",
       "      <td>0</td>\n",
       "      <td>0</td>\n",
       "      <td>0</td>\n",
       "      <td>0</td>\n",
       "      <td>0</td>\n",
       "      <td>0</td>\n",
       "      <td>...</td>\n",
       "      <td>0</td>\n",
       "      <td>0</td>\n",
       "      <td>0</td>\n",
       "      <td>0</td>\n",
       "      <td>0</td>\n",
       "      <td>0</td>\n",
       "      <td>0</td>\n",
       "      <td>0</td>\n",
       "      <td>0</td>\n",
       "      <td>0</td>\n",
       "    </tr>\n",
       "    <tr>\n",
       "      <th>25693</th>\n",
       "      <td>0</td>\n",
       "      <td>0</td>\n",
       "      <td>0</td>\n",
       "      <td>0</td>\n",
       "      <td>0</td>\n",
       "      <td>0</td>\n",
       "      <td>0</td>\n",
       "      <td>0</td>\n",
       "      <td>0</td>\n",
       "      <td>0</td>\n",
       "      <td>...</td>\n",
       "      <td>0</td>\n",
       "      <td>0</td>\n",
       "      <td>0</td>\n",
       "      <td>0</td>\n",
       "      <td>0</td>\n",
       "      <td>0</td>\n",
       "      <td>0</td>\n",
       "      <td>0</td>\n",
       "      <td>0</td>\n",
       "      <td>0</td>\n",
       "    </tr>\n",
       "    <tr>\n",
       "      <th>20130</th>\n",
       "      <td>0</td>\n",
       "      <td>0</td>\n",
       "      <td>0</td>\n",
       "      <td>0</td>\n",
       "      <td>0</td>\n",
       "      <td>0</td>\n",
       "      <td>0</td>\n",
       "      <td>0</td>\n",
       "      <td>0</td>\n",
       "      <td>0</td>\n",
       "      <td>...</td>\n",
       "      <td>0</td>\n",
       "      <td>1</td>\n",
       "      <td>0</td>\n",
       "      <td>0</td>\n",
       "      <td>0</td>\n",
       "      <td>0</td>\n",
       "      <td>0</td>\n",
       "      <td>0</td>\n",
       "      <td>0</td>\n",
       "      <td>0</td>\n",
       "    </tr>\n",
       "    <tr>\n",
       "      <th>22213</th>\n",
       "      <td>0</td>\n",
       "      <td>0</td>\n",
       "      <td>0</td>\n",
       "      <td>0</td>\n",
       "      <td>0</td>\n",
       "      <td>0</td>\n",
       "      <td>0</td>\n",
       "      <td>0</td>\n",
       "      <td>0</td>\n",
       "      <td>0</td>\n",
       "      <td>...</td>\n",
       "      <td>0</td>\n",
       "      <td>0</td>\n",
       "      <td>0</td>\n",
       "      <td>0</td>\n",
       "      <td>0</td>\n",
       "      <td>0</td>\n",
       "      <td>0</td>\n",
       "      <td>0</td>\n",
       "      <td>0</td>\n",
       "      <td>0</td>\n",
       "    </tr>\n",
       "    <tr>\n",
       "      <th>13162</th>\n",
       "      <td>0</td>\n",
       "      <td>0</td>\n",
       "      <td>0</td>\n",
       "      <td>0</td>\n",
       "      <td>0</td>\n",
       "      <td>0</td>\n",
       "      <td>0</td>\n",
       "      <td>0</td>\n",
       "      <td>0</td>\n",
       "      <td>0</td>\n",
       "      <td>...</td>\n",
       "      <td>0</td>\n",
       "      <td>0</td>\n",
       "      <td>0</td>\n",
       "      <td>0</td>\n",
       "      <td>0</td>\n",
       "      <td>0</td>\n",
       "      <td>0</td>\n",
       "      <td>0</td>\n",
       "      <td>0</td>\n",
       "      <td>0</td>\n",
       "    </tr>\n",
       "  </tbody>\n",
       "</table>\n",
       "<p>5 rows × 1486 columns</p>\n",
       "</div>"
      ],
      "text/plain": [
       "       fenugreek  corn kernels  smoked gouda  unsalted cashews  \\\n",
       "10259          0             0             0                 0   \n",
       "25693          0             0             0                 0   \n",
       "20130          0             0             0                 0   \n",
       "22213          0             0             0                 0   \n",
       "13162          0             0             0                 0   \n",
       "\n",
       "       hellmann' or best food real mayonnais  pepper flakes  red kidney beans  \\\n",
       "10259                                      0              0                 0   \n",
       "25693                                      0              0                 0   \n",
       "20130                                      0              0                 0   \n",
       "22213                                      0              0                 0   \n",
       "13162                                      0              0                 0   \n",
       "\n",
       "       gram flour  olives  ground turkey breast  ...  whipped cream  \\\n",
       "10259           0       0                     0  ...              0   \n",
       "25693           0       0                     0  ...              0   \n",
       "20130           0       0                     0  ...              0   \n",
       "22213           0       0                     0  ...              0   \n",
       "13162           0       0                     0  ...              0   \n",
       "\n",
       "       chicken livers  Chinese egg noodles  old bay seasoning  lime wedges  \\\n",
       "10259               0                    0                  0            0   \n",
       "25693               0                    0                  0            0   \n",
       "20130               1                    0                  0            0   \n",
       "22213               0                    0                  0            0   \n",
       "13162               0                    0                  0            0   \n",
       "\n",
       "       ground chicken  thyme leaves  tumeric  black peppercorns  chipotle  \n",
       "10259               0             0        0                  0         0  \n",
       "25693               0             0        0                  0         0  \n",
       "20130               0             0        0                  0         0  \n",
       "22213               0             0        0                  0         0  \n",
       "13162               0             0        0                  0         0  \n",
       "\n",
       "[5 rows x 1486 columns]"
      ]
     },
     "execution_count": 12,
     "metadata": {},
     "output_type": "execute_result"
    }
   ],
   "source": [
    "bal_25.head()"
   ]
  },
  {
   "cell_type": "markdown",
   "metadata": {},
   "source": [
    "## Exploratory Data Analysis\n",
    "In this step, some analysis is done to have an overview of the dataset."
   ]
  },
  {
   "cell_type": "markdown",
   "metadata": {},
   "source": [
    "**<u>Number of recipe count per cuisine** </u><br>\n",
    "The count for each cuisine can be seen below. The dataset is dominated by italian cuisine followed by mexican with brazilian appearing the least. It can be concluded from this analysis that the dataset is imbalanced."
   ]
  },
  {
   "cell_type": "code",
   "execution_count": 13,
   "metadata": {
    "ExecuteTime": {
     "end_time": "2019-08-20T08:47:19.290322Z",
     "start_time": "2019-08-20T08:47:18.655118Z"
    }
   },
   "outputs": [
    {
     "data": {
      "image/png": "[encoded data removed]",
      "text/plain": [
       "<Figure size 432x288 with 1 Axes>"
      ]
     },
     "metadata": {
      "needs_background": "light"
     },
     "output_type": "display_data"
    }
   ],
   "source": [
    "sns.countplot(y=dirty_df['cuisine']);"
   ]
  },
  {
   "cell_type": "markdown",
   "metadata": {},
   "source": [
    "**<u>Number of Ingredient Distribution per cuisine** </u><br>\n",
    "It is also important to know how many ingredients are there per cuisine. It can be inferred that each cuisine averages 9-14 ingredients per recipe. The ingredient distribution for each cuisine can be seen below."
   ]
  },
  {
   "cell_type": "code",
   "execution_count": 14,
   "metadata": {
    "ExecuteTime": {
     "end_time": "2019-08-20T08:47:19.701448Z",
     "start_time": "2019-08-20T08:47:19.293830Z"
    }
   },
   "outputs": [],
   "source": [
    "mean_count=[]\n",
    "for c in cuisines:\n",
    "    mean_count.append(dirty_df[dirty_df['cuisine']==c].count(axis=1).mean())"
   ]
  },
  {
   "cell_type": "code",
   "execution_count": 15,
   "metadata": {
    "ExecuteTime": {
     "end_time": "2019-08-20T08:47:19.712062Z",
     "start_time": "2019-08-20T08:47:19.703861Z"
    }
   },
   "outputs": [],
   "source": [
    "ings=pd.DataFrame(mean_count,cuisines)"
   ]
  },
  {
   "cell_type": "code",
   "execution_count": 16,
   "metadata": {
    "ExecuteTime": {
     "end_time": "2019-08-20T08:47:28.443812Z",
     "start_time": "2019-08-20T08:47:19.715293Z"
    }
   },
   "outputs": [
    {
     "data": {
      "image/png": "[encoded data removed]",
      "text/plain": [
       "<Figure size 432x288 with 1 Axes>"
      ]
     },
     "metadata": {
      "needs_background": "light"
     },
     "output_type": "display_data"
    }
   ],
   "source": [
    "sns.distplot(ings,bins=20,kde=False);"
   ]
  },
  {
   "cell_type": "markdown",
   "metadata": {
    "ExecuteTime": {
     "end_time": "2019-08-19T15:45:54.460936Z",
     "start_time": "2019-08-19T15:45:54.450541Z"
    }
   },
   "source": [
    "## Machine Learning Model Implementation\n",
    "\n",
    "In the context of identifying cuisines based on their ingredients, it is necessary to treat this as a classification problem with cuisines as the classes. What is different in this problem is that there are 20 classes which would fall under multi-class classfication. This is not a straightforward classification like binary classification where the target is just 0 or 1. \n",
    "\n",
    "There are many machine learning classification models namely:\n",
    "1. kNN\n",
    "2. Logistic Regression (L1 and L2 Regularization)\n",
    "3. Linear Support Vector Machines (L1 and L2 Regularization)\n",
    "4. Non Linear Support Vector Machines\n",
    "4. Decision Tree\n",
    "5. Random Forest\n",
    "6. Gradient Boosting Method\n",
    "7. Naive Bayes Classifer \n",
    "\n",
    "Judas module is imported where it contains all the code machine learning models."
   ]
  },
  {
   "cell_type": "code",
   "execution_count": 17,
   "metadata": {
    "ExecuteTime": {
     "end_time": "2019-08-20T08:47:28.957936Z",
     "start_time": "2019-08-20T08:47:28.447123Z"
    }
   },
   "outputs": [],
   "source": [
    "from judas.regression.automate import Judas as JudasRegressor\n",
    "from judas.classification.automate import Judas as JudasClassifier\n",
    "from judas.automate import General\n",
    "\n",
    "gen=General()"
   ]
  },
  {
   "cell_type": "markdown",
   "metadata": {},
   "source": [
    "#### PCC\n",
    "\n",
    "The chance for this dataset to be highly successful is **12.5%.**"
   ]
  },
  {
   "cell_type": "code",
   "execution_count": 18,
   "metadata": {
    "ExecuteTime": {
     "end_time": "2019-08-20T08:47:29.310144Z",
     "start_time": "2019-08-20T08:47:28.960762Z"
    }
   },
   "outputs": [
    {
     "name": "stdout",
     "output_type": "stream",
     "text": [
      "Counter({'italian': 7838, 'mexican': 6438, 'southern_us': 4320, 'indian': 3003, 'chinese': 2673, 'french': 2646, 'cajun_creole': 1546, 'thai': 1539, 'japanese': 1423, 'greek': 1175, 'spanish': 989, 'korean': 830, 'vietnamese': 825, 'moroccan': 821, 'british': 804, 'filipino': 755, 'irish': 667, 'jamaican': 526, 'russian': 489, 'brazilian': 467})\n",
      "State Count:                  0\n",
      "greek         1175\n",
      "southern_us   4320\n",
      "filipino       755\n",
      "indian        3003\n",
      "jamaican       526\n",
      "spanish        989\n",
      "italian       7838\n",
      "mexican       6438\n",
      "chinese       2673\n",
      "british        804\n",
      "thai          1539\n",
      "vietnamese     825\n",
      "cajun_creole  1546\n",
      "brazilian      467\n",
      "french        2646\n",
      "japanese      1423\n",
      "irish          667\n",
      "korean         830\n",
      "moroccan       821\n",
      "russian        489\n",
      "\n",
      "1.25 * Proportion Chance Criterion: 12.50732696708293%\n"
     ]
    },
    {
     "data": {
      "image/png": "[encoded data removed]",
      "text/plain": [
       "<Figure size 432x288 with 1 Axes>"
      ]
     },
     "metadata": {},
     "output_type": "display_data"
    }
   ],
   "source": [
    "## PCC\n",
    "gen.pcc(dirty_df['cuisine'])"
   ]
  },
  {
   "cell_type": "markdown",
   "metadata": {},
   "source": [
    "It is necessary to assign the cuisines into a numerical value for model interpretation."
   ]
  },
  {
   "cell_type": "code",
   "execution_count": 19,
   "metadata": {
    "ExecuteTime": {
     "end_time": "2019-08-20T08:47:29.327388Z",
     "start_time": "2019-08-20T08:47:29.313057Z"
    }
   },
   "outputs": [],
   "source": [
    "target=dirty_df['cuisine']\n",
    "lb = LabelEncoder()\n",
    "y = lb.fit_transform(target) #the target here is in numerical form\n",
    "X=bal_25 #assign one-hot encoded dataframe as x"
   ]
  },
  {
   "cell_type": "markdown",
   "metadata": {},
   "source": [
    "### Model Implementation Proper\n",
    "We run the models for 5 trials for better consistency. In this project, only the not commented out models will be run due to time constraint. kNN, Non Linear SVM, Gradient Boosting Method are skipped due to very long computation time.  `RandomUnderSampler` is implemented to account for the imbalanced dataset.\n",
    "\n",
    "<u>Expectations</u><br>\n",
    "By theory, we expect the linear models to do well than the probabilistic ones (Naive Bayes).\n",
    "\n",
    "<u>Reality</u> <br>\n",
    "Naive Bayes performed better than linear models by about 1%."
   ]
  },
  {
   "cell_type": "markdown",
   "metadata": {},
   "source": [
    "#### Judas Module Implementation"
   ]
  },
  {
   "cell_type": "code",
   "execution_count": 87,
   "metadata": {
    "ExecuteTime": {
     "end_time": "2019-08-20T04:53:11.222939Z",
     "start_time": "2019-08-20T03:37:06.096511Z"
    }
   },
   "outputs": [
    {
     "name": "stdout",
     "output_type": "stream",
     "text": [
      "logistic, reg=l1\n"
     ]
    },
    {
     "data": {
      "application/vnd.jupyter.widget-view+json": {
       "model_id": "fab27b0fa8a6400e8ecd68c074409692",
       "version_major": 2,
       "version_minor": 0
      },
      "text/plain": [
       "HBox(children=(IntProgress(value=0, max=95), HTML(value='')))"
      ]
     },
     "metadata": {},
     "output_type": "display_data"
    },
    {
     "name": "stdout",
     "output_type": "stream",
     "text": [
      "\n",
      "logistic, reg=l2\n"
     ]
    },
    {
     "data": {
      "application/vnd.jupyter.widget-view+json": {
       "model_id": "bf60d9e46788416ea820153d6f553e2b",
       "version_major": 2,
       "version_minor": 0
      },
      "text/plain": [
       "HBox(children=(IntProgress(value=0, max=95), HTML(value='')))"
      ]
     },
     "metadata": {},
     "output_type": "display_data"
    },
    {
     "name": "stdout",
     "output_type": "stream",
     "text": [
      "\n",
      "svm, reg=l1\n"
     ]
    },
    {
     "data": {
      "application/vnd.jupyter.widget-view+json": {
       "model_id": "3211aa4700e040b9b57a81fe2b7c5b46",
       "version_major": 2,
       "version_minor": 0
      },
      "text/plain": [
       "HBox(children=(IntProgress(value=0, max=95), HTML(value='')))"
      ]
     },
     "metadata": {},
     "output_type": "display_data"
    },
    {
     "name": "stdout",
     "output_type": "stream",
     "text": [
      "\n",
      "svm, reg=l2\n"
     ]
    },
    {
     "data": {
      "application/vnd.jupyter.widget-view+json": {
       "model_id": "63862e8074984403a190ad4c05a0712e",
       "version_major": 2,
       "version_minor": 0
      },
      "text/plain": [
       "HBox(children=(IntProgress(value=0, max=95), HTML(value='')))"
      ]
     },
     "metadata": {},
     "output_type": "display_data"
    },
    {
     "name": "stdout",
     "output_type": "stream",
     "text": [
      "\n",
      "ensemble-decisiontree, max depth=range(1, 20)\n"
     ]
    },
    {
     "data": {
      "application/vnd.jupyter.widget-view+json": {
       "model_id": "744122bed3c04ff18335e688bbe02519",
       "version_major": 2,
       "version_minor": 0
      },
      "text/plain": [
       "HBox(children=(IntProgress(value=0, max=95), HTML(value='')))"
      ]
     },
     "metadata": {},
     "output_type": "display_data"
    },
    {
     "name": "stdout",
     "output_type": "stream",
     "text": [
      "\n",
      "ensemble-randomforest, n estimators=range(1, 20)\n"
     ]
    },
    {
     "data": {
      "application/vnd.jupyter.widget-view+json": {
       "model_id": "d78bea87c1c64587b7e9dc36aa357c33",
       "version_major": 2,
       "version_minor": 0
      },
      "text/plain": [
       "HBox(children=(IntProgress(value=0, max=95), HTML(value='')))"
      ]
     },
     "metadata": {},
     "output_type": "display_data"
    },
    {
     "name": "stdout",
     "output_type": "stream",
     "text": [
      "\n",
      "naive-bayes\n"
     ]
    },
    {
     "data": {
      "application/vnd.jupyter.widget-view+json": {
       "model_id": "8443dd696647495c995000353a8d8616",
       "version_major": 2,
       "version_minor": 0
      },
      "text/plain": [
       "HBox(children=(IntProgress(value=0, max=95), HTML(value='')))"
      ]
     },
     "metadata": {},
     "output_type": "display_data"
    },
    {
     "name": "stdout",
     "output_type": "stream",
     "text": [
      "\n"
     ]
    },
    {
     "data": {
      "image/png": "[encoded data removed]",
      "text/plain": [
       "<Figure size 216x360 with 1 Axes>"
      ]
     },
     "metadata": {},
     "output_type": "display_data"
    },
    {
     "data": {
      "image/png": "[encoded data removed]",
      "text/plain": [
       "<Figure size 216x360 with 1 Axes>"
      ]
     },
     "metadata": {},
     "output_type": "display_data"
    }
   ],
   "source": [
    "from judas.classification.automate import Judas as JudasClassifier\n",
    "\n",
    "trials = 5\n",
    "judasc = JudasClassifier()\n",
    "params = [\n",
    "#     {'model': 'knn', 'trials': trials, 'k': range(1, 30)},\n",
    "    {'model': 'logistic', 'reg': 'l1', 'trials': trials},\n",
    "    {'model': 'logistic', 'reg': 'l2', 'trials': trials},\n",
    "    {'model': 'svm', 'reg': 'l1', 'trials': trials},\n",
    "    {'model': 'svm', 'reg': 'l2', 'trials': trials},\n",
    "#     {'model': 'nsvm-rbf', 'trials': trials},\n",
    "    {'model': 'ensemble-decisiontree', 'trials': trials, 'maxdepth': range(1, 20)},\n",
    "    {'model': 'ensemble-randomforest', 'trials': trials, 'n_est': range(1, 20)},\n",
    "#     {'model': 'ensemble-gbm', 'trials': trials, 'maxdepth': range(1, 10)},\n",
    "#     {'model': 'naive-bayes', 'trials': trials, 'tp': 'B'},\n",
    "#    {'model': 'naive-bayes', 'trials': trials, 'tp': 'G'},\n",
    "    {'model': 'naive-bayes', 'trials': trials, 'tp': 'M'},\n",
    "]\n",
    "\n",
    "judasc.automate(X,y,params)"
   ]
  },
  {
   "cell_type": "code",
   "execution_count": 27,
   "metadata": {
    "ExecuteTime": {
     "end_time": "2019-08-20T02:17:34.561481Z",
     "start_time": "2019-08-20T02:17:34.514041Z"
    }
   },
   "outputs": [
    {
     "data": {
      "text/html": [
       "<div>\n",
       "<style scoped>\n",
       "    .dataframe tbody tr th:only-of-type {\n",
       "        vertical-align: middle;\n",
       "    }\n",
       "\n",
       "    .dataframe tbody tr th {\n",
       "        vertical-align: top;\n",
       "    }\n",
       "\n",
       "    .dataframe thead th {\n",
       "        text-align: right;\n",
       "    }\n",
       "</style>\n",
       "<table border=\"1\" class=\"dataframe\">\n",
       "  <thead>\n",
       "    <tr style=\"text-align: right;\">\n",
       "      <th></th>\n",
       "      <th>Machine Learning Method</th>\n",
       "      <th>Test Accuracy</th>\n",
       "      <th>Best Parameter</th>\n",
       "      <th>Top Predictor Variable</th>\n",
       "    </tr>\n",
       "  </thead>\n",
       "  <tbody>\n",
       "    <tr>\n",
       "      <th>0</th>\n",
       "      <td>Logistic (l1)</td>\n",
       "      <td>76.79%</td>\n",
       "      <td>C = 1</td>\n",
       "      <td>cachaca</td>\n",
       "    </tr>\n",
       "    <tr>\n",
       "      <th>1</th>\n",
       "      <td>Logistic (l2)</td>\n",
       "      <td>76.79%</td>\n",
       "      <td>C = 0.75</td>\n",
       "      <td>cachaca</td>\n",
       "    </tr>\n",
       "    <tr>\n",
       "      <th>2</th>\n",
       "      <td>Linear SVM (l1)</td>\n",
       "      <td>76.94%</td>\n",
       "      <td>C = 0.2</td>\n",
       "      <td>cachaca</td>\n",
       "    </tr>\n",
       "    <tr>\n",
       "      <th>3</th>\n",
       "      <td>Linear SVM (l2)</td>\n",
       "      <td>77.01%</td>\n",
       "      <td>C = 0.1</td>\n",
       "      <td>cachaca</td>\n",
       "    </tr>\n",
       "    <tr>\n",
       "      <th>4</th>\n",
       "      <td>Decision Trees</td>\n",
       "      <td>27.02%</td>\n",
       "      <td>depth = 5</td>\n",
       "      <td>fish sauce</td>\n",
       "    </tr>\n",
       "    <tr>\n",
       "      <th>5</th>\n",
       "      <td>Random Forest</td>\n",
       "      <td>53.50%</td>\n",
       "      <td>n-estimator = 19</td>\n",
       "      <td>soy sauce</td>\n",
       "    </tr>\n",
       "    <tr>\n",
       "      <th>6</th>\n",
       "      <td>Naive-Bayes (B)</td>\n",
       "      <td>77.50%</td>\n",
       "      <td>alpha = 1e-08</td>\n",
       "      <td>NA</td>\n",
       "    </tr>\n",
       "    <tr>\n",
       "      <th>7</th>\n",
       "      <td>Naive-Bayes (G)</td>\n",
       "      <td>32.33%</td>\n",
       "      <td>alpha = 1e-08</td>\n",
       "      <td>NA</td>\n",
       "    </tr>\n",
       "    <tr>\n",
       "      <th>8</th>\n",
       "      <td>Naive-Bayes (M)</td>\n",
       "      <td>78.06%</td>\n",
       "      <td>alpha = 1e-08</td>\n",
       "      <td>NA</td>\n",
       "    </tr>\n",
       "  </tbody>\n",
       "</table>\n",
       "</div>"
      ],
      "text/plain": [
       "  Machine Learning Method Test Accuracy    Best Parameter  \\\n",
       "0           Logistic (l1)        76.79%             C = 1   \n",
       "1           Logistic (l2)        76.79%          C = 0.75   \n",
       "2         Linear SVM (l1)        76.94%           C = 0.2   \n",
       "3         Linear SVM (l2)        77.01%           C = 0.1   \n",
       "4          Decision Trees        27.02%         depth = 5   \n",
       "5           Random Forest        53.50%  n-estimator = 19   \n",
       "6         Naive-Bayes (B)        77.50%     alpha = 1e-08   \n",
       "7         Naive-Bayes (G)        32.33%     alpha = 1e-08   \n",
       "8         Naive-Bayes (M)        78.06%     alpha = 1e-08   \n",
       "\n",
       "  Top Predictor Variable  \n",
       "0                cachaca  \n",
       "1                cachaca  \n",
       "2                cachaca  \n",
       "3                cachaca  \n",
       "4             fish sauce  \n",
       "5              soy sauce  \n",
       "6                     NA  \n",
       "7                     NA  \n",
       "8                     NA  "
      ]
     },
     "execution_count": 27,
     "metadata": {},
     "output_type": "execute_result"
    }
   ],
   "source": [
    "judasc.score()"
   ]
  },
  {
   "cell_type": "markdown",
   "metadata": {},
   "source": [
    "The model that has the highest accuracy is the Naive-Bayes `MultinomialNB()` with **78.06%**. With linear models, `LinearSVC`(L2) has the highest accuracy with **77.01%** with C=0.1.\n",
    "\n",
    "The accuracy above only means that cuisine classification is accurate 77.01% of the time using Naive-Bayes Classifier which is not bad for a 20-class classification."
   ]
  },
  {
   "cell_type": "markdown",
   "metadata": {},
   "source": [
    "### Top Ingredient Predictor for each cuisine\n",
    "\n",
    "To determine the top predictor for each cuisine, LinearSVC (L2) is chosen using the best parameters which is at **C=0.1**."
   ]
  },
  {
   "cell_type": "code",
   "execution_count": 45,
   "metadata": {
    "ExecuteTime": {
     "end_time": "2019-08-20T11:30:13.954570Z",
     "start_time": "2019-08-20T11:30:09.986710Z"
    }
   },
   "outputs": [],
   "source": [
    "svm = LinearSVC(C=0.1, penalty='l2',max_iter=10000,random_state=1).fit(bal_25,y)"
   ]
  },
  {
   "cell_type": "code",
   "execution_count": 49,
   "metadata": {
    "ExecuteTime": {
     "end_time": "2019-08-20T11:31:27.067043Z",
     "start_time": "2019-08-20T11:31:27.062618Z"
    }
   },
   "outputs": [],
   "source": [
    "top=pd.DataFrame(svm.coef_,columns=bal_25.columns,index=sorted(cuisines))"
   ]
  },
  {
   "cell_type": "code",
   "execution_count": 50,
   "metadata": {
    "ExecuteTime": {
     "end_time": "2019-08-20T11:31:27.413503Z",
     "start_time": "2019-08-20T11:31:27.375947Z"
    }
   },
   "outputs": [],
   "source": [
    "top_pred=pd.DataFrame(top.apply(lambda x: x.sort_values(ascending=False).head().index.values,axis=1))"
   ]
  },
  {
   "cell_type": "code",
   "execution_count": 51,
   "metadata": {
    "ExecuteTime": {
     "end_time": "2019-08-20T11:31:27.669047Z",
     "start_time": "2019-08-20T11:31:27.644026Z"
    }
   },
   "outputs": [
    {
     "data": {
      "text/html": [
       "<div>\n",
       "<style scoped>\n",
       "    .dataframe tbody tr th:only-of-type {\n",
       "        vertical-align: middle;\n",
       "    }\n",
       "\n",
       "    .dataframe tbody tr th {\n",
       "        vertical-align: top;\n",
       "    }\n",
       "\n",
       "    .dataframe thead th {\n",
       "        text-align: right;\n",
       "    }\n",
       "</style>\n",
       "<table border=\"1\" class=\"dataframe\">\n",
       "  <thead>\n",
       "    <tr style=\"text-align: right;\">\n",
       "      <th></th>\n",
       "      <th>0</th>\n",
       "      <th>1</th>\n",
       "      <th>2</th>\n",
       "      <th>3</th>\n",
       "      <th>4</th>\n",
       "    </tr>\n",
       "  </thead>\n",
       "  <tbody>\n",
       "    <tr>\n",
       "      <th>brazilian</th>\n",
       "      <td>cachaca</td>\n",
       "      <td>dried black beans</td>\n",
       "      <td>tapioca flour</td>\n",
       "      <td>sweetened condensed milk</td>\n",
       "      <td>tapioca starch</td>\n",
       "    </tr>\n",
       "    <tr>\n",
       "      <th>british</th>\n",
       "      <td>malt vinegar</td>\n",
       "      <td>golden syrup</td>\n",
       "      <td>double cream</td>\n",
       "      <td>beef tenderloin</td>\n",
       "      <td>dried currants</td>\n",
       "    </tr>\n",
       "    <tr>\n",
       "      <th>cajun_creole</th>\n",
       "      <td>cajun seasoning</td>\n",
       "      <td>creole seasoning</td>\n",
       "      <td>creole mustard</td>\n",
       "      <td>andouille sausage</td>\n",
       "      <td>red beans</td>\n",
       "    </tr>\n",
       "    <tr>\n",
       "      <th>chinese</th>\n",
       "      <td>mandarin oranges</td>\n",
       "      <td>szechwan peppercorns</td>\n",
       "      <td>chinese five-spice powder</td>\n",
       "      <td>egg roll wrappers</td>\n",
       "      <td>glutinous rice flour</td>\n",
       "    </tr>\n",
       "    <tr>\n",
       "      <th>filipino</th>\n",
       "      <td>green papaya</td>\n",
       "      <td>condensed milk</td>\n",
       "      <td>plantains</td>\n",
       "      <td>glutinous rice flour</td>\n",
       "      <td>cooking oil</td>\n",
       "    </tr>\n",
       "    <tr>\n",
       "      <th>french</th>\n",
       "      <td>gruyere cheese</td>\n",
       "      <td>grated Gruyère cheese</td>\n",
       "      <td>Niçoise olives</td>\n",
       "      <td>swiss cheese</td>\n",
       "      <td>haricots verts</td>\n",
       "    </tr>\n",
       "    <tr>\n",
       "      <th>greek</th>\n",
       "      <td>greek seasoning</td>\n",
       "      <td>feta cheese crumbles</td>\n",
       "      <td>feta cheese</td>\n",
       "      <td>phyllo dough</td>\n",
       "      <td>greek yogurt</td>\n",
       "    </tr>\n",
       "    <tr>\n",
       "      <th>indian</th>\n",
       "      <td>masala</td>\n",
       "      <td>curry powder</td>\n",
       "      <td>curds</td>\n",
       "      <td>Madras curry powder</td>\n",
       "      <td>plain yogurt</td>\n",
       "    </tr>\n",
       "    <tr>\n",
       "      <th>irish</th>\n",
       "      <td>Irish whiskey</td>\n",
       "      <td>Guinness Beer</td>\n",
       "      <td>corned beef</td>\n",
       "      <td>stout</td>\n",
       "      <td>beef brisket</td>\n",
       "    </tr>\n",
       "    <tr>\n",
       "      <th>italian</th>\n",
       "      <td>italian sausage</td>\n",
       "      <td>polenta</td>\n",
       "      <td>gnocchi</td>\n",
       "      <td>pesto</td>\n",
       "      <td>marsala wine</td>\n",
       "    </tr>\n",
       "    <tr>\n",
       "      <th>jamaican</th>\n",
       "      <td>allspice</td>\n",
       "      <td>dri leav thyme</td>\n",
       "      <td>ground allspice</td>\n",
       "      <td>thyme</td>\n",
       "      <td>habanero pepper</td>\n",
       "    </tr>\n",
       "    <tr>\n",
       "      <th>japanese</th>\n",
       "      <td>bonito flakes</td>\n",
       "      <td>miso paste</td>\n",
       "      <td>dashi</td>\n",
       "      <td>soba noodles</td>\n",
       "      <td>sake</td>\n",
       "    </tr>\n",
       "    <tr>\n",
       "      <th>korean</th>\n",
       "      <td>kimchi</td>\n",
       "      <td>Gochujang base</td>\n",
       "      <td>rice cakes</td>\n",
       "      <td>gochugaru</td>\n",
       "      <td>beef rib short</td>\n",
       "    </tr>\n",
       "    <tr>\n",
       "      <th>mexican</th>\n",
       "      <td>mexican chocolate</td>\n",
       "      <td>flour tortillas</td>\n",
       "      <td>masa harina</td>\n",
       "      <td>corn tortillas</td>\n",
       "      <td>tequila</td>\n",
       "    </tr>\n",
       "    <tr>\n",
       "      <th>moroccan</th>\n",
       "      <td>ras el hanout</td>\n",
       "      <td>harissa</td>\n",
       "      <td>couscous</td>\n",
       "      <td>preserved lemon</td>\n",
       "      <td>orange flower water</td>\n",
       "    </tr>\n",
       "    <tr>\n",
       "      <th>russian</th>\n",
       "      <td>beets</td>\n",
       "      <td>sauerkraut</td>\n",
       "      <td>dill</td>\n",
       "      <td>cottage cheese</td>\n",
       "      <td>pickles</td>\n",
       "    </tr>\n",
       "    <tr>\n",
       "      <th>southern_us</th>\n",
       "      <td>quickcooking grits</td>\n",
       "      <td>grits</td>\n",
       "      <td>black-eyed peas</td>\n",
       "      <td>collard greens</td>\n",
       "      <td>vanilla wafers</td>\n",
       "    </tr>\n",
       "    <tr>\n",
       "      <th>spanish</th>\n",
       "      <td>spanish paprika</td>\n",
       "      <td>spanish chorizo</td>\n",
       "      <td>chorizo sausage</td>\n",
       "      <td>serrano ham</td>\n",
       "      <td>manchego cheese</td>\n",
       "    </tr>\n",
       "    <tr>\n",
       "      <th>thai</th>\n",
       "      <td>Thai red curry paste</td>\n",
       "      <td>chunky peanut butter</td>\n",
       "      <td>thai green curry paste</td>\n",
       "      <td>red curry paste</td>\n",
       "      <td>Thai fish sauce</td>\n",
       "    </tr>\n",
       "    <tr>\n",
       "      <th>vietnamese</th>\n",
       "      <td>vietnamese fish sauce</td>\n",
       "      <td>tapioca starch</td>\n",
       "      <td>fish sauce</td>\n",
       "      <td>asian fish sauce</td>\n",
       "      <td>rice paper</td>\n",
       "    </tr>\n",
       "  </tbody>\n",
       "</table>\n",
       "</div>"
      ],
      "text/plain": [
       "                                  0                      1  \\\n",
       "brazilian                   cachaca      dried black beans   \n",
       "british                malt vinegar           golden syrup   \n",
       "cajun_creole        cajun seasoning       creole seasoning   \n",
       "chinese            mandarin oranges   szechwan peppercorns   \n",
       "filipino               green papaya         condensed milk   \n",
       "french               gruyere cheese  grated Gruyère cheese   \n",
       "greek               greek seasoning   feta cheese crumbles   \n",
       "indian                       masala           curry powder   \n",
       "irish                 Irish whiskey          Guinness Beer   \n",
       "italian             italian sausage                polenta   \n",
       "jamaican                   allspice         dri leav thyme   \n",
       "japanese              bonito flakes             miso paste   \n",
       "korean                       kimchi         Gochujang base   \n",
       "mexican           mexican chocolate        flour tortillas   \n",
       "moroccan              ras el hanout                harissa   \n",
       "russian                       beets             sauerkraut   \n",
       "southern_us      quickcooking grits                  grits   \n",
       "spanish             spanish paprika        spanish chorizo   \n",
       "thai           Thai red curry paste   chunky peanut butter   \n",
       "vietnamese    vietnamese fish sauce         tapioca starch   \n",
       "\n",
       "                                      2                         3  \\\n",
       "brazilian                 tapioca flour  sweetened condensed milk   \n",
       "british                    double cream           beef tenderloin   \n",
       "cajun_creole             creole mustard         andouille sausage   \n",
       "chinese       chinese five-spice powder         egg roll wrappers   \n",
       "filipino                      plantains      glutinous rice flour   \n",
       "french                   Niçoise olives              swiss cheese   \n",
       "greek                       feta cheese              phyllo dough   \n",
       "indian                            curds       Madras curry powder   \n",
       "irish                       corned beef                     stout   \n",
       "italian                         gnocchi                     pesto   \n",
       "jamaican                ground allspice                     thyme   \n",
       "japanese                          dashi              soba noodles   \n",
       "korean                       rice cakes                 gochugaru   \n",
       "mexican                     masa harina            corn tortillas   \n",
       "moroccan                       couscous           preserved lemon   \n",
       "russian                            dill            cottage cheese   \n",
       "southern_us             black-eyed peas            collard greens   \n",
       "spanish                 chorizo sausage               serrano ham   \n",
       "thai             thai green curry paste           red curry paste   \n",
       "vietnamese                   fish sauce          asian fish sauce   \n",
       "\n",
       "                                 4  \n",
       "brazilian           tapioca starch  \n",
       "british             dried currants  \n",
       "cajun_creole             red beans  \n",
       "chinese       glutinous rice flour  \n",
       "filipino               cooking oil  \n",
       "french              haricots verts  \n",
       "greek                 greek yogurt  \n",
       "indian                plain yogurt  \n",
       "irish                 beef brisket  \n",
       "italian               marsala wine  \n",
       "jamaican           habanero pepper  \n",
       "japanese                      sake  \n",
       "korean              beef rib short  \n",
       "mexican                    tequila  \n",
       "moroccan       orange flower water  \n",
       "russian                    pickles  \n",
       "southern_us         vanilla wafers  \n",
       "spanish            manchego cheese  \n",
       "thai               Thai fish sauce  \n",
       "vietnamese              rice paper  "
      ]
     },
     "execution_count": 51,
     "metadata": {},
     "output_type": "execute_result"
    }
   ],
   "source": [
    "top_pred[0].apply(pd.Series)"
   ]
  },
  {
   "cell_type": "markdown",
   "metadata": {},
   "source": [
    "The top 5 predictors for each cuisine are shown above. It can be inferred that:\n",
    "1. In order to create a dish on a particular cuisine, the ingredients above are a must-have.\n",
    "2. For example in Korean Cuisine, kimchi and gochuchang base are automatically associated with Korean cuisine. \n",
    "3. For chefs and restaurateurs, the ingredients to prioritize would be based on top predictors."
   ]
  },
  {
   "cell_type": "markdown",
   "metadata": {},
   "source": [
    "## Confusion Matrix\n",
    "\n",
    "In this step, the recipes are tested and classified according to cuisines. Those at the diagonal ones are accurately predicted while misclassified ones are the ones that are not in the diagonal. "
   ]
  },
  {
   "cell_type": "code",
   "execution_count": 52,
   "metadata": {
    "ExecuteTime": {
     "end_time": "2019-08-20T11:40:10.686780Z",
     "start_time": "2019-08-20T11:40:08.237209Z"
    }
   },
   "outputs": [
    {
     "data": {
      "image/png": "[encoded data removed]",
      "text/plain": [
       "<Figure size 1080x720 with 2 Axes>"
      ]
     },
     "metadata": {},
     "output_type": "display_data"
    }
   ],
   "source": [
    "X_train, X_test, y_train, y_test = train_test_split(X,y, test_size=0.25,random_state=1)\n",
    "y_pred = svm.predict(X_test)\n",
    "from sklearn.metrics import confusion_matrix\n",
    "conf_mat = confusion_matrix(y_test, y_pred)\n",
    "fig, ax = plt.subplots(figsize=(15,10))\n",
    "sns.heatmap(conf_mat, annot=True, fmt='d',\n",
    "            xticklabels=sorted(cuisines),yticklabels=sorted(cuisines))\n",
    "plt.ylabel('Actual')\n",
    "plt.xlabel('Predicted')\n",
    "plt.show()"
   ]
  },
  {
   "cell_type": "markdown",
   "metadata": {},
   "source": [
    "Since the dataset is imbalanced leaning towards italian, it is hard to pinpoint the accuracy of the model based on confusion matrix only. Therefore, a classification report is implemented where it dictates the precision, recall, f1-score for each cuisine."
   ]
  },
  {
   "cell_type": "code",
   "execution_count": 53,
   "metadata": {
    "ExecuteTime": {
     "end_time": "2019-08-20T11:40:15.054748Z",
     "start_time": "2019-08-20T11:40:15.028265Z"
    }
   },
   "outputs": [
    {
     "name": "stdout",
     "output_type": "stream",
     "text": [
      "              precision    recall  f1-score   support\n",
      "\n",
      "           0       0.79      0.60      0.68       110\n",
      "           1       0.76      0.48      0.59       209\n",
      "           2       0.81      0.75      0.77       373\n",
      "           3       0.84      0.89      0.87       667\n",
      "           4       0.81      0.66      0.73       188\n",
      "           5       0.67      0.67      0.67       656\n",
      "           6       0.85      0.76      0.80       301\n",
      "           7       0.87      0.93      0.90       749\n",
      "           8       0.76      0.60      0.67       160\n",
      "           9       0.81      0.91      0.86      1981\n",
      "          10       0.91      0.73      0.81       150\n",
      "          11       0.86      0.68      0.76       346\n",
      "          12       0.85      0.88      0.87       191\n",
      "          13       0.91      0.94      0.93      1636\n",
      "          14       0.90      0.83      0.86       195\n",
      "          15       0.79      0.55      0.65       130\n",
      "          16       0.74      0.83      0.78      1065\n",
      "          17       0.80      0.55      0.65       253\n",
      "          18       0.85      0.85      0.85       402\n",
      "          19       0.82      0.63      0.71       182\n",
      "\n",
      "    accuracy                           0.82      9944\n",
      "   macro avg       0.82      0.74      0.77      9944\n",
      "weighted avg       0.82      0.82      0.82      9944\n",
      "\n"
     ]
    }
   ],
   "source": [
    "from sklearn.metrics import classification_report\n",
    "print(classification_report(y_test, y_pred))"
   ]
  },
  {
   "cell_type": "markdown",
   "metadata": {},
   "source": [
    "### Definition of Precision, Recall, F1-Score\n",
    "\n",
    "#### Precision \n",
    "A higher value for precision means that the model was able to classify the cuisines correctly. \n",
    "\n",
    "#### Recall\n",
    "A higher value of recall means that the model is able to catch most of the correctly classified cuisine.\n",
    "\n",
    "#### F1-Score\n",
    "This measure is just an average of precision and recall values."
   ]
  },
  {
   "cell_type": "markdown",
   "metadata": {},
   "source": [
    "## Interpretation of Results\n",
    "The model is interpreted to create value based on how correlated each cuisine is with one another, whether the cuisine is distinct from one another or more similar to one another. \n",
    "\n",
    "The result of this can help chefs and restaurateurs to decide on a cuisine and optimizing the ingredients they use. With the identified distinct cuisines, it is recommended to just focus on one cuisine to save on ingredients. But with similar ones, this can be an opportunity for fusion restaurants by merging misclassified ones. Like how British and Irish cuisines are treated similarly based on their ingredients and often misclassified with each other. The results are valid since these are neighboring countries.\n",
    "\n",
    "### More distinct cuisines\n",
    "#### High Precision\n",
    "Cuisines|Precision|Recall|F1-Score\n",
    "--|--|--|--\n",
    "Mexican|0.91|0.93|0.92\n",
    "Jamaican|0.90|0.73|0.81\n",
    "Moroccan|0.88|0.81|0.84\n",
    "\n",
    "#### High Recall\n",
    "Cuisines|Precision|Recall|F1-Score\n",
    "--|--|--|--\n",
    "Mexican|0.91|0.93|0.92\n",
    "Indian|0.86|0.92|0.89\n",
    "Italian|0.81|0.91|0.86\n",
    "\n",
    "#### High F1-Score\n",
    "Cuisines|Precision|Recall|F1-Score\n",
    "--|--|--|--\n",
    "Mexican|0.91|0.93|0.92\n",
    "Indian|0.86|0.92|0.89\n",
    "Korean|0.87|0.87|0.87\n",
    "\n",
    "### More similar cuisines\n",
    "#### Low Precision\n",
    "Cuisines|Precision|Recall|F1-Score\n",
    "--|--|--|--\n",
    "Irish|0.69|0.53|0.60\n",
    "Southern US|0.72|0.81|0.76\n",
    "Brazilian|0.74|0.58|0.65\n",
    "\n",
    "#### Low Recall\n",
    "Cuisines|Precision|Recall|F1-Score\n",
    "--|--|--|--\n",
    "British|0.75|0.44|0.56\n",
    "Russian|0.79|0.51|0.62\n",
    "Irish|0.69|0.53|0.60\n",
    "\n",
    "#### Low F1-Score\n",
    "Cuisines|Precision|Recall|F1-Score\n",
    "--|--|--|--\n",
    "British|0.75|0.44|0.56\n",
    "Irish|0.69|0.53|0.60\n",
    "Russian|0.79|0.51|0.62"
   ]
  },
  {
   "cell_type": "markdown",
   "metadata": {},
   "source": [
    "The results show that **Mexican, Jamaican and Indian Cuisines** are fairly distinct from the other cuisines while **British, Irish and Russian** are kind of similar with other cuisines. \n",
    "\n",
    "The key takeaway here is that confusion matrix can do much in getting insightful results like the one above and create value for chefs and restaurant owners by helping them optimize ingredients for specific cuisines."
   ]
  },
  {
   "cell_type": "code",
   "execution_count": null,
   "metadata": {},
   "outputs": [],
   "source": []
  }
 ],
 "metadata": {
  "kernelspec": {
   "display_name": "Python 3",
   "language": "python",
   "name": "python3"
  },
  "language_info": {
   "codemirror_mode": {
    "name": "ipython",
    "version": 3
   },
   "file_extension": ".py",
   "mimetype": "text/x-python",
   "name": "python",
   "nbconvert_exporter": "python",
   "pygments_lexer": "ipython3",
   "version": "3.7.1"
  },
  "toc": {
   "base_numbering": 1,
   "nav_menu": {},
   "number_sections": true,
   "sideBar": true,
   "skip_h1_title": false,
   "title_cell": "Table of Contents",
   "title_sidebar": "Contents",
   "toc_cell": false,
   "toc_position": {},
   "toc_section_display": true,
   "toc_window_display": false
  },
  "varInspector": {
   "cols": {
    "lenName": 16,
    "lenType": 16,
    "lenVar": 40
   },
   "kernels_config": {
    "python": {
     "delete_cmd_postfix": "",
     "delete_cmd_prefix": "del ",
     "library": "var_list.py",
     "varRefreshCmd": "print(var_dic_list())"
    },
    "r": {
     "delete_cmd_postfix": ") ",
     "delete_cmd_prefix": "rm(",
     "library": "var_list.r",
     "varRefreshCmd": "cat(var_dic_list()) "
    }
   },
   "types_to_exclude": [
    "module",
    "function",
    "builtin_function_or_method",
    "instance",
    "_Feature"
   ],
   "window_display": false
  }
 },
 "nbformat": 4,
 "nbformat_minor": 2
}
